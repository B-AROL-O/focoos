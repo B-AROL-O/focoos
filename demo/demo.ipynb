{
 "cells": [
  {
   "cell_type": "code",
   "execution_count": null,
   "metadata": {},
   "outputs": [],
   "source": [
    "MODEL_NAME = \"peanuts\"  # Model name\n",
    "DATASET_NAME = \"peanuts\"  # Dataset name"
   ]
  },
  {
   "cell_type": "markdown",
   "metadata": {},
   "source": [
    "### SETUP"
   ]
  },
  {
   "cell_type": "code",
   "execution_count": null,
   "metadata": {
    "jupyter": {
     "source_hidden": true
    }
   },
   "outputs": [],
   "source": [
    "import random\n",
    "from dotenv import load_dotenv\n",
    "import os\n",
    "from pprint import pprint\n",
    "from focoos import DeploymentMode, Focoos, FocoosEnvHostUrl\n",
    "from focoos.ports import Hyperparameters\n",
    "from supervision import plot_image\n",
    "from utils import display_instseg, display_detection\n",
    "from dataset import get_dataset\n",
    "\n",
    "load_dotenv()"
   ]
  },
  {
   "cell_type": "code",
   "execution_count": null,
   "metadata": {
    "jupyter": {
     "source_hidden": true
    }
   },
   "outputs": [],
   "source": [
    "dataset_cfg = get_dataset(DATASET_NAME)  # Get dataset configuration\n",
    "\n",
    "DATASET_NAME = dataset_cfg[\"name\"]  # Dataset name\n",
    "VIS_FUNC = (\n",
    "    display_detection if dataset_cfg[\"task\"] == \"detection\" else display_instseg\n",
    ")  # Visualization function\n",
    "FOCOOS_MODEL = (\n",
    "    \"focoos_object365\"\n",
    "    if dataset_cfg[\"task\"] == \"detection\"\n",
    "    else \"focoos_ade_ins_medium\"\n",
    ")  # Start model\n",
    "\n",
    "PATH = dataset_cfg[\"path\"] + \"/valid\"  # Path to the dataset (for visualization only)\n",
    "PATHS = [os.path.join(PATH, p) for p in os.listdir(PATH)]\n",
    "\n",
    "API_KEY = os.getenv(\"FOCOOS_API_KEY\")\n",
    "HOST = FocoosEnvHostUrl.DEV"
   ]
  },
  {
   "cell_type": "markdown",
   "metadata": {},
   "source": [
    "## Visualize the dataset\n"
   ]
  },
  {
   "cell_type": "code",
   "execution_count": null,
   "metadata": {},
   "outputs": [],
   "source": [
    "if dataset_cfg[\"task\"] == \"instance_segmentation\":\n",
    "    display_instseg(PATH, num_images=5, annotate=True)\n",
    "else:\n",
    "    display_detection(PATH, num_images=5, annotate=True)"
   ]
  },
  {
   "cell_type": "markdown",
   "metadata": {},
   "source": [
    "# Training and Inferencing with Focoos "
   ]
  },
  {
   "cell_type": "code",
   "execution_count": null,
   "metadata": {},
   "outputs": [],
   "source": [
    "focoos = Focoos(api_key=API_KEY, host_url=HOST)"
   ]
  },
  {
   "cell_type": "markdown",
   "metadata": {},
   "source": [
    "## Deploy the model"
   ]
  },
  {
   "cell_type": "markdown",
   "metadata": {},
   "source": [
    "Use the model on Focoos servers"
   ]
  },
  {
   "cell_type": "code",
   "execution_count": null,
   "metadata": {},
   "outputs": [],
   "source": [
    "model = focoos.get_model_by_name(MODEL_NAME)\n",
    "\n",
    "output, preview = model.infer(\n",
    "    PATHS[random.randint(0, len(PATHS) - 1)], threshold=0.4, annotate=True\n",
    ")\n",
    "\n",
    "plot_image(preview)"
   ]
  },
  {
   "cell_type": "markdown",
   "metadata": {},
   "source": [
    "Use the model locally (first download the model then use it)"
   ]
  },
  {
   "cell_type": "code",
   "execution_count": null,
   "metadata": {},
   "outputs": [],
   "source": [
    "local_model = focoos.get_local_model(model.metadata.ref)"
   ]
  },
  {
   "cell_type": "code",
   "execution_count": null,
   "metadata": {},
   "outputs": [],
   "source": [
    "output, preview = local_model.infer(\n",
    "    PATHS[random.randint(0, len(PATHS) - 1)], annotate=True, threshold=0.4\n",
    ")\n",
    "\n",
    "pprint(output.latency)\n",
    "\n",
    "pprint(output)\n",
    "# plot_image(preview)"
   ]
  },
  {
   "cell_type": "markdown",
   "metadata": {},
   "source": [
    "## Train a model for the dataset."
   ]
  },
  {
   "cell_type": "code",
   "execution_count": null,
   "metadata": {},
   "outputs": [],
   "source": [
    "model = focoos.new_model(\n",
    "    name=MODEL_NAME + \"_live\",\n",
    "    focoos_model=FOCOOS_MODEL,\n",
    "    description=f\"A model for the {DATASET_NAME} dataset\",\n",
    ")\n",
    "\n",
    "dataset = focoos.get_dataset_by_name(DATASET_NAME)\n",
    "\n",
    "res = model.train(\n",
    "    dataset_ref=dataset.ref,  # Dataset reference\n",
    "    hyperparameters=Hyperparameters(  # Hyperparameters for the training\n",
    "        learning_rate=0.0005, batch_size=16, max_iters=1000\n",
    "    ),\n",
    ")\n",
    "\n",
    "model.monitor_train()"
   ]
  },
  {
   "cell_type": "markdown",
   "metadata": {},
   "source": [
    "# Finally, we can also run a gradio DEMO"
   ]
  },
  {
   "cell_type": "raw",
   "metadata": {
    "vscode": {
     "languageId": "raw"
    }
   },
   "source": [
    "# Select multiple random images\n",
    "PATHS = [os.path.join(PATH, p) for p in os.listdir(PATH)]\n",
    "\n",
    "from utils import start_gradio\n",
    "start_gradio(model=model, paths=PATHS, allowed_paths=[\"/Users/fcdl94/Develop/focoos/data\"])\n"
   ]
  }
 ],
 "metadata": {
  "kernelspec": {
   "display_name": "Python 3 (ipykernel)",
   "language": "python",
   "name": "python3"
  },
  "language_info": {
   "codemirror_mode": {
    "name": "ipython",
    "version": 3
   },
   "file_extension": ".py",
   "mimetype": "text/x-python",
   "name": "python",
   "nbconvert_exporter": "python",
   "pygments_lexer": "ipython3",
   "version": "3.11.10"
  }
 },
 "nbformat": 4,
 "nbformat_minor": 4
}
