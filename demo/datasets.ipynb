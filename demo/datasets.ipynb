{
 "cells": [
  {
   "cell_type": "markdown",
   "metadata": {},
   "source": [
    "# Links:\n",
    "## Detection\n",
    "- [x] [Bottles in Fridge](https://universe.roboflow.com/roboflow-100/soda-bottles/dataset)\n",
    "- [x] [Box on Conveyor](https://universe.roboflow.com/moyed-chowdhury/mv_train_data/dataset/2)\n",
    "- [x] [Cable Defects](https://universe.roboflow.com/roboflow-100/cable-damage/dataset/2)\n",
    "- [x] [Lattuce Growth](https://universe.roboflow.com/object-detection/lettuce-pallets/dataset)\n",
    "- [x] [Peanuts Quality Control](https://universe.roboflow.com/roboflow-100/peanuts-sd4kf)\n",
    "- [x] [Safety in Workplace](https://universe.roboflow.com/roboflow-100/construction-safety-gsnvb)\n",
    "\n",
    "## Segmentation\n",
    "- [x] [Blister and Pills](https://universe.roboflow.com/blisterdetection/blister-pills-segmentation/dataset)\n",
    "- [x] [Concrete Cracks and Defects](https://app.roboflow.com/focoosai/concrete-merge-d91ow/)\n",
    "- [x] [Strawberry Harvest](https://universe.roboflow.com/marstrawberry/strawberry-disease-uudgf/dataset/13)\n"
   ]
  },
  {
   "cell_type": "code",
   "execution_count": null,
   "metadata": {},
   "outputs": [],
   "source": [
    "# Download datasets\n",
    "# !pip install roboflow\n",
    "from dataset import get_dataset\n",
    "from roboflow import Roboflow\n",
    "import os\n",
    "\n",
    "dataset_cfg = get_dataset(\"bottles\")\n",
    "\n",
    "rf = Roboflow(api_key=os.getenv(\"ROBOFLOW_API_KEY\"))\n",
    "project = rf.workspace(dataset_cfg[\"workspace\"]).project(dataset_cfg[\"project\"])\n",
    "version = project.version(dataset_cfg[\"version\"])\n",
    "dataset = version.download(\"coco\", location=dataset_cfg[\"path\"])"
   ]
  },
  {
   "cell_type": "code",
   "execution_count": null,
   "metadata": {},
   "outputs": [],
   "source": [
    "from utils import display_instseg, display_detection\n",
    "from dataset import get_dataset\n",
    "\n",
    "dataset_cfg = get_dataset(\"bottles\")\n",
    "PATH = dataset_cfg[\"path\"] + \"/valid\"\n",
    "\n",
    "if dataset_cfg[\"task\"] == \"instance_segmentation\":\n",
    "    display_instseg(PATH, num_images=4, annotate=True)\n",
    "else:\n",
    "    display_detection(PATH, num_images=4, annotate=True)"
   ]
  },
  {
   "cell_type": "code",
   "execution_count": null,
   "metadata": {},
   "outputs": [],
   "source": [
    "import os\n",
    "from focoos import Focoos, FocoosEnvHostUrl\n",
    "\n",
    "focoos = Focoos(api_key=os.getenv(\"FOCOOS_API_KEY\"), host_url=FocoosEnvHostUrl.DEV)\n",
    "focoos.list_shared_datasets()"
   ]
  },
  {
   "cell_type": "code",
   "execution_count": null,
   "metadata": {},
   "outputs": [],
   "source": []
  }
 ],
 "metadata": {
  "kernelspec": {
   "display_name": "focoos",
   "language": "python",
   "name": "python3"
  },
  "language_info": {
   "codemirror_mode": {
    "name": "ipython",
    "version": 3
   },
   "file_extension": ".py",
   "mimetype": "text/x-python",
   "name": "python",
   "nbconvert_exporter": "python",
   "pygments_lexer": "ipython3",
   "version": "3.11.10"
  }
 },
 "nbformat": 4,
 "nbformat_minor": 2
}
