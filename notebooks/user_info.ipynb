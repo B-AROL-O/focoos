{
 "cells": [
  {
   "cell_type": "markdown",
   "metadata": {},
   "source": [
    "# 🐍 Setup Focoos"
   ]
  },
  {
   "cell_type": "code",
   "execution_count": null,
   "metadata": {},
   "outputs": [],
   "source": [
    "%pip install 'focoos @ git+https://github.com/FocoosAI/focoos.git'"
   ]
  },
  {
   "cell_type": "markdown",
   "metadata": {},
   "source": [
    "# User Management\n",
    "\n",
    "This section covers the steps to monitor your status on the FocoosAI platform."
   ]
  },
  {
   "cell_type": "code",
   "execution_count": null,
   "metadata": {},
   "outputs": [],
   "source": [
    "from focoos import Focoos\n",
    "\n",
    "focoos = Focoos(api_key=\"<YOUR-API-KEY>\")"
   ]
  },
  {
   "cell_type": "code",
   "execution_count": null,
   "metadata": {},
   "outputs": [],
   "source": [
    "user_info = focoos.get_user_info()\n",
    "\n",
    "print(f\"Email: {user_info.email}\")\n",
    "print(f\"Created at: {user_info.created_at}\")\n",
    "print(f\"Updated at: {user_info.updated_at}\")\n",
    "if user_info.company:\n",
    "    print(f\"Company: {user_info.company}\")\n",
    "\n",
    "print(\"\\nQuotas:\")\n",
    "print(f\"Total inferences: {user_info.quotas.total_inferences}\")\n",
    "print(f\"Max inferences: {user_info.quotas.max_inferences}\")\n",
    "print(f\"Used storage (GB): {user_info.quotas.used_storage_gb}\")\n",
    "print(f\"Max storage (GB): {user_info.quotas.max_storage_gb}\")\n",
    "print(f\"Active training jobs: {user_info.quotas.active_training_jobs}\")\n",
    "print(f\"Max active training jobs: {user_info.quotas.max_active_training_jobs}\")\n",
    "print(f\"Used MLG4DNXLarge training jobs hours: {user_info.quotas.used_mlg4dnxlarge_training_jobs_hours}\")\n",
    "print(f\"Max MLG4DNXLarge training jobs hours: {user_info.quotas.max_mlg4dnxlarge_training_jobs_hours}\")"
   ]
  }
 ],
 "metadata": {
  "kernelspec": {
   "display_name": ".venv",
   "language": "python",
   "name": "python3"
  },
  "language_info": {
   "codemirror_mode": {
    "name": "ipython",
    "version": 3
   },
   "file_extension": ".py",
   "mimetype": "text/x-python",
   "name": "python",
   "nbconvert_exporter": "python",
   "pygments_lexer": "ipython3",
   "version": "3.12.8"
  }
 },
 "nbformat": 4,
 "nbformat_minor": 2
}
