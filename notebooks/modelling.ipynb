{
 "cells": [
  {
   "cell_type": "markdown",
   "metadata": {},
   "source": [
    "## Model Registry"
   ]
  },
  {
   "cell_type": "code",
   "execution_count": null,
   "metadata": {},
   "outputs": [],
   "source": [
    "from focoos.model_registry import ModelRegistry\n",
    "\n",
    "registry = ModelRegistry()\n",
    "print(registry.list_models())\n",
    "\n",
    "\n",
    "model_info = registry.get_model_info(\"fai-rtdetr-l-obj365\")\n",
    "\n",
    "model_info.pprint()"
   ]
  },
  {
   "cell_type": "markdown",
   "metadata": {},
   "source": [
    "## AutoDataset"
   ]
  },
  {
   "cell_type": "code",
   "execution_count": null,
   "metadata": {},
   "outputs": [],
   "source": [
    "from focoos.data.auto_dataset import AutoDataset\n",
    "from focoos.data.default_aug import get_default_by_task\n",
    "from focoos.ports import DatasetLayout, DatasetSplitType, Task\n",
    "\n",
    "task = Task.DETECTION\n",
    "layout = DatasetLayout.ROBOFLOW_COCO\n",
    "auto_dataset = AutoDataset(dataset_name=\"aquarium\", task=task, layout=layout, datasets_root_dir=\"../datasets\")\n",
    "\n",
    "train_augs, val_augs = get_default_by_task(task, 640, advanced=False)\n",
    "train_dataset = auto_dataset.get_split(augs=train_augs.get_augmentations(), split=DatasetSplitType.TRAIN)\n",
    "valid_dataset = auto_dataset.get_split(augs=val_augs.get_augmentations(), split=DatasetSplitType.VAL)"
   ]
  },
  {
   "cell_type": "markdown",
   "metadata": {},
   "source": [
    "## Auto Model"
   ]
  },
  {
   "cell_type": "code",
   "execution_count": null,
   "metadata": {},
   "outputs": [],
   "source": [
    "from focoos.auto_model import AutoModel\n",
    "\n",
    "model = AutoModel.from_pretrained(\"fai-rtdetr-m-coco\", num_classes=train_dataset.dataset.metadata.num_classes)\n",
    "\n",
    "# model = AutoModel.from_pretrained(\"experiments/aquarium2/model_info.json\")"
   ]
  },
  {
   "cell_type": "markdown",
   "metadata": {},
   "source": [
    "## Trainer"
   ]
  },
  {
   "cell_type": "code",
   "execution_count": null,
   "metadata": {},
   "outputs": [],
   "source": [
    "from focoos.ports import TrainerArgs\n",
    "\n",
    "# from focoos.trainer.trainer import FocoosTrainer\n",
    "\n",
    "args = TrainerArgs(\n",
    "    run_name=\"footballxyz\",\n",
    "    output_dir=\"./experiments\",\n",
    "    amp_enabled=True,\n",
    "    batch_size=16,\n",
    "    max_iters=50,\n",
    "    eval_period=100,\n",
    "    learning_rate=0.0001,\n",
    "    scheduler=\"MULTISTEP\",\n",
    "    weight_decay=0.0001,\n",
    "    workers=16,\n",
    ")\n",
    "\n",
    "\n",
    "model.train(args, train_dataset, valid_dataset)"
   ]
  },
  {
   "cell_type": "code",
   "execution_count": null,
   "metadata": {},
   "outputs": [],
   "source": [
    "info = model.model_info\n",
    "info.pprint()"
   ]
  },
  {
   "cell_type": "markdown",
   "metadata": {},
   "source": [
    "## Validation only"
   ]
  },
  {
   "cell_type": "code",
   "execution_count": null,
   "metadata": {},
   "outputs": [],
   "source": [
    "from focoos.ports import TrainerArgs\n",
    "\n",
    "args = TrainerArgs(\n",
    "    run_name=\"aquarium2\",\n",
    "    output_dir=\"./experiments\",\n",
    "    amp_enabled=True,\n",
    "    batch_size=16,\n",
    "    max_iters=300,\n",
    "    eval_period=100,\n",
    "    learning_rate=0.0001,\n",
    "    scheduler=\"MULTISTEP\",\n",
    "    weight_decay=0.0001,\n",
    "    workers=16,\n",
    ")\n",
    "\n",
    "model.test(args, valid_dataset)"
   ]
  },
  {
   "cell_type": "code",
   "execution_count": null,
   "metadata": {},
   "outputs": [],
   "source": [
    "import torch\n",
    "from PIL import Image\n",
    "\n",
    "from focoos.auto_model import AutoModel\n",
    "from focoos.models.fai_rtdetr.processor import RTDetrProcessor\n",
    "\n",
    "# post_processor = DetectionPostProcessor(valid_dataset.dataset.metadata)\n",
    "model = AutoModel.from_pretrained(\"fai-rtdetr-m-coco\")\n",
    "post_processor = RTDetrProcessor()\n",
    "\n",
    "data = Image.open(\"../image.jpg\")\n",
    "\n",
    "with torch.no_grad():\n",
    "    out = model([data])\n",
    "    out = post_processor.postprocess(out, data)\n",
    "\n",
    "print(out)"
   ]
  },
  {
   "cell_type": "markdown",
   "metadata": {},
   "source": [
    "## Image Classification"
   ]
  },
  {
   "cell_type": "code",
   "execution_count": null,
   "metadata": {},
   "outputs": [],
   "source": [
    "from focoos.data.auto_dataset import AutoDataset\n",
    "from focoos.data.default_aug import get_default_by_task\n",
    "from focoos.ports import DatasetLayout, DatasetSplitType, Task\n",
    "\n",
    "task = Task.CLASSIFICATION\n",
    "layout = DatasetLayout.CLS_FOLDER\n",
    "auto_dataset = AutoDataset(dataset_name=\"hymenoptera\", task=task, layout=layout, datasets_root_dir=\"../datasets\")\n",
    "resolution = 224\n",
    "\n",
    "train_augs, val_augs = get_default_by_task(task, resolution, advanced=False)\n",
    "train_dataset = auto_dataset.get_split(augs=train_augs.get_augmentations(), split=DatasetSplitType.TRAIN)\n",
    "valid_dataset = auto_dataset.get_split(augs=val_augs.get_augmentations(), split=DatasetSplitType.VAL)"
   ]
  },
  {
   "cell_type": "code",
   "execution_count": null,
   "metadata": {},
   "outputs": [],
   "source": [
    "# Use the model for inference\n",
    "from PIL import Image\n",
    "\n",
    "from focoos.auto_model import AutoConfig, AutoModel\n",
    "from focoos.nn.backbone.resnet import ResnetConfig\n",
    "from focoos.ports import ModelFamily, ModelInfo, Task\n",
    "\n",
    "# Create a configuration with a ResNet backbone\n",
    "cls_config = AutoConfig.from_dict(\n",
    "    ModelFamily.CLS,\n",
    "    {\n",
    "        \"backbone_config\": dict(ResnetConfig(model_type=\"resnet\", depth=50, pretrained=True)),\n",
    "        \"num_classes\": valid_dataset.dataset.metadata.num_classes,\n",
    "        \"resolution\": resolution,\n",
    "        \"hidden_dim\": 512,\n",
    "        \"dropout_rate\": 0.2,\n",
    "    },\n",
    ")\n",
    "\n",
    "model_info = ModelInfo(\n",
    "    name=\"fai-cls-resnet50\",\n",
    "    description=\"ResNet50 model for classification\",\n",
    "    task=Task.CLASSIFICATION,\n",
    "    classes=[\"cat\", \"dog\", \"bird\"],\n",
    "    im_size=224,\n",
    "    model_family=ModelFamily.CLS,\n",
    "    config=cls_config,\n",
    ")\n",
    "# Create the model\n",
    "model = AutoModel.from_config(model_info)\n",
    "\n",
    "image = Image.open(\"image.jpg\")\n",
    "outputs = model(image)\n",
    "\n",
    "print(outputs)"
   ]
  },
  {
   "cell_type": "code",
   "execution_count": null,
   "metadata": {},
   "outputs": [],
   "source": [
    "from focoos.ports import TrainerArgs\n",
    "\n",
    "args = TrainerArgs(\n",
    "    run_name=\"aquarium2\",\n",
    "    output_dir=\"./experiments\",\n",
    "    amp_enabled=True,\n",
    "    batch_size=16,\n",
    "    max_iters=500,\n",
    "    eval_period=100,\n",
    "    learning_rate=0.0001,\n",
    "    scheduler=\"MULTISTEP\",\n",
    "    weight_decay=0.0001,\n",
    "    workers=16,\n",
    ")\n",
    "\n",
    "model.train(args, train_dataset, valid_dataset)"
   ]
  },
  {
   "cell_type": "code",
   "execution_count": null,
   "metadata": {},
   "outputs": [],
   "source": []
  },
  {
   "cell_type": "code",
   "execution_count": null,
   "metadata": {},
   "outputs": [],
   "source": []
  }
 ],
 "metadata": {
  "kernelspec": {
   "display_name": ".venv",
   "language": "python",
   "name": "python3"
  },
  "language_info": {
   "codemirror_mode": {
    "name": "ipython",
    "version": 3
   },
   "file_extension": ".py",
   "mimetype": "text/x-python",
   "name": "python",
   "nbconvert_exporter": "python",
   "pygments_lexer": "ipython3",
   "version": "3.12.8"
  }
 },
 "nbformat": 4,
 "nbformat_minor": 2
}
