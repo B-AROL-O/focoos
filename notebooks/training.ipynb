{
 "cells": [
  {
   "cell_type": "markdown",
   "metadata": {},
   "source": [
    "# 🐍 Setup Focoos"
   ]
  },
  {
   "cell_type": "code",
   "execution_count": null,
   "metadata": {},
   "outputs": [],
   "source": [
    "%pip install 'focoos @ git+https://github.com/FocoosAI/focoos.git'"
   ]
  },
  {
   "cell_type": "markdown",
   "metadata": {},
   "source": [
    "# 🎨 Personalize your model\n",
    "\n",
    "This section covers the steps to create a model and train it in the cloud using the focoos library. The following example demonstrates how to interact with the Focoos API to manage models, datasets, and training jobs.\n",
    "\n",
    "In this guide, we will perform the following steps:\n",
    "\n",
    "0. 🐍 Connect with Focoos\n",
    "1. 📦 Load or select a dataset\n",
    "2. 🎯 Create a model\n",
    "3. 🏃‍♂️ Train the model\n",
    "4. 📊 Visualize training metrics\n",
    "5. 🧪 Test your model\n"
   ]
  },
  {
   "cell_type": "markdown",
   "metadata": {},
   "source": [
    "## 🐍 Connect with Focoos"
   ]
  },
  {
   "cell_type": "code",
   "execution_count": null,
   "metadata": {},
   "outputs": [],
   "source": [
    "import os\n",
    "from pprint import pprint\n",
    "\n",
    "from dotenv import load_dotenv\n",
    "from PIL import Image\n",
    "\n",
    "from focoos import DEV_API_URL, Focoos, Hyperparameters\n",
    "\n",
    "DEV = True\n",
    "\n",
    "# We assume you have the API key in your environment variable (or in the .env file)\n",
    "load_dotenv()\n",
    "\n",
    "focoos = Focoos(api_key=os.getenv(\"FOCOOS_API_KEY\"), host_url=DEV_API_URL if DEV else None)"
   ]
  },
  {
   "cell_type": "markdown",
   "metadata": {},
   "source": [
    "## 📦 Load or select a dataset\n",
    "\n",
    "Currently, we are not supporting dataset creation from the SDK (it's coming really soon) and you can only use a dataset already available on the platform. To upload your own dataset, you can write us a mail to info@focoos.ai and we will load your dataset on the platform on your private workspace (your data will not be shared with anyone and not used for any other purpose than training your model).\n"
   ]
  },
  {
   "cell_type": "code",
   "execution_count": null,
   "metadata": {},
   "outputs": [],
   "source": [
    "datasets = focoos.list_shared_datasets()\n",
    "\n",
    "for dataset in datasets:\n",
    "    print(f\"Name: {dataset.name}\")\n",
    "    print(f\"Reference: {dataset.ref}\")\n",
    "    print(f\"Task: {dataset.task}\")\n",
    "    print(f\"Description: {dataset.description}\")\n",
    "    print(\"-\" * 50)"
   ]
  },
  {
   "cell_type": "code",
   "execution_count": null,
   "metadata": {},
   "outputs": [],
   "source": [
    "# select the dataset you want to use for training\n",
    "dataset_ref = \"7b7c0ed8cf804f1d\""
   ]
  },
  {
   "cell_type": "markdown",
   "metadata": {},
   "source": [
    "## 🎯 Create a model\n",
    "\n",
    "The first step to personalize your model is to create a model. You can create a model by calling the new_model method on the Focoos object. You can choose the model you want to personalize from the list of Focoos Models available on the platform. Make sure to select the correct model for your task."
   ]
  },
  {
   "cell_type": "code",
   "execution_count": null,
   "metadata": {},
   "outputs": [],
   "source": [
    "model = focoos.new_model(\n",
    "    name=\"my-model\",\n",
    "    description=\"my-model-description\",\n",
    "    focoos_model=\"fai-rtdetr-m-obj365\",\n",
    ")"
   ]
  },
  {
   "cell_type": "markdown",
   "metadata": {},
   "source": [
    "This function returns a new RemoteModel object that you can use to train the model and to perform remote inference."
   ]
  },
  {
   "cell_type": "markdown",
   "metadata": {},
   "source": [
    "## 🏃‍♂️ Train the model\n",
    "\n",
    "The next step is to train the model. You can train the model by calling the train method on the RemoteModel object. You can choose the dataset you want to use for training and the instance type you want to use for training."
   ]
  },
  {
   "cell_type": "code",
   "execution_count": null,
   "metadata": {},
   "outputs": [],
   "source": [
    "res = model.train(\n",
    "    dataset_ref=dataset_ref,\n",
    "    hyperparameters=Hyperparameters(\n",
    "        learning_rate=0.0001,  # custom learning rate\n",
    "        batch_size=16,  # custom batch size\n",
    "        max_iters=1500,  # custom max iterations\n",
    "    ),\n",
    ")"
   ]
  },
  {
   "cell_type": "markdown",
   "metadata": {},
   "source": [
    "We provide you with a notebook monitor to track the training progress. You can use it to monitor the training progress and to get the training logs."
   ]
  },
  {
   "cell_type": "code",
   "execution_count": null,
   "metadata": {},
   "outputs": [],
   "source": [
    "model.notebook_monitor_train(interval=30, plot_metrics=True)"
   ]
  },
  {
   "cell_type": "markdown",
   "metadata": {},
   "source": [
    "Or if you prefer the hard way, you can get the training logs by calling the train_logs method on the RemoteModel object."
   ]
  },
  {
   "cell_type": "code",
   "execution_count": null,
   "metadata": {},
   "outputs": [],
   "source": [
    "logs = model.train_logs()\n",
    "pprint(logs)"
   ]
  },
  {
   "cell_type": "markdown",
   "metadata": {},
   "source": [
    "If for some reason you need to stop the training, you can do so by calling the stop_train method on the RemoteModel object."
   ]
  },
  {
   "cell_type": "code",
   "execution_count": null,
   "metadata": {},
   "outputs": [],
   "source": [
    "model.stop_training()"
   ]
  },
  {
   "cell_type": "markdown",
   "metadata": {},
   "source": [
    "## 📊 Visualize training metrics"
   ]
  },
  {
   "cell_type": "code",
   "execution_count": null,
   "metadata": {},
   "outputs": [],
   "source": [
    "from focoos.utils.metrics import MetricsVisualizer\n",
    "\n",
    "metrics = model.metrics()\n",
    "visualizer = MetricsVisualizer(metrics)\n",
    "visualizer.log_metrics()"
   ]
  },
  {
   "cell_type": "code",
   "execution_count": null,
   "metadata": {},
   "outputs": [],
   "source": [
    "visualizer.notebook_plot_training_metrics()"
   ]
  },
  {
   "cell_type": "markdown",
   "metadata": {},
   "source": [
    "## 🧪 Test your model\n"
   ]
  },
  {
   "cell_type": "markdown",
   "metadata": {},
   "source": [
    "### Remote Inference"
   ]
  },
  {
   "cell_type": "code",
   "execution_count": null,
   "metadata": {},
   "outputs": [],
   "source": [
    "image_path = \"<PATH-TO-YOUR-IMAGE>\"\n",
    "result, preview = model.infer(image_path, threshold=0.6, annotate=True)\n",
    "\n",
    "Image.fromarray(preview[:, :, [2, 1, 0]])"
   ]
  },
  {
   "cell_type": "markdown",
   "metadata": {},
   "source": [
    "### Local Inference\n",
    "Remember, to perform local inference, you need to install the package with one of the extra modules (`[cpu]`, `[torch]`, `[cuda]`, `[tensorrt]`). See the [installation](./setup.md) page or the `inference.ipynb` notebook for more details."
   ]
  },
  {
   "cell_type": "code",
   "execution_count": null,
   "metadata": {},
   "outputs": [],
   "source": [
    "%uv pip install 'focoos[cpu] @ git+https://github.com/FocoosAI/focoos.git'"
   ]
  },
  {
   "cell_type": "code",
   "execution_count": null,
   "metadata": {},
   "outputs": [],
   "source": [
    "model = focoos.get_local_model(model.model_ref)  # get the local model\n",
    "\n",
    "image_path = \"<PATH-TO-YOUR-IMAGE>\"\n",
    "result, _ = model.infer(image_path, threshold=0.5, annotate=False)\n",
    "\n",
    "for det in result.detections:\n",
    "    print(f\"Found {det.label} with confidence {det.conf:.2f}\")\n",
    "    print(f\"Bounding box: {det.bbox}\")\n",
    "    if det.mask:\n",
    "        print(\"Instance segmentation mask included\")"
   ]
  },
  {
   "cell_type": "code",
   "execution_count": null,
   "metadata": {},
   "outputs": [],
   "source": []
  }
 ],
 "metadata": {
  "kernelspec": {
   "display_name": ".venv",
   "language": "python",
   "name": "python3"
  },
  "language_info": {
   "codemirror_mode": {
    "name": "ipython",
    "version": 3
   },
   "file_extension": ".py",
   "mimetype": "text/x-python",
   "name": "python",
   "nbconvert_exporter": "python",
   "pygments_lexer": "ipython3",
   "version": "3.12.8"
  }
 },
 "nbformat": 4,
 "nbformat_minor": 2
}
