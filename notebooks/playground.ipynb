{
 "cells": [
  {
   "cell_type": "markdown",
   "metadata": {},
   "source": [
    "# 🐍 Setup Focoos"
   ]
  },
  {
   "cell_type": "code",
   "execution_count": null,
   "metadata": {},
   "outputs": [],
   "source": [
    "%uv pip install -e \"..[cpu]\" # you can choose to install only the inference execution providers you need"
   ]
  },
  {
   "cell_type": "markdown",
   "metadata": {},
   "source": [
    "# 🤖 Playground with Focoos pre-trained models\n"
   ]
  },
  {
   "cell_type": "markdown",
   "metadata": {},
   "source": [
    "### Supported Tasks: Object Detection, Instance Segmentation, Semantic Segmentation"
   ]
  },
  {
   "cell_type": "code",
   "execution_count": null,
   "metadata": {},
   "outputs": [],
   "source": [
    "import os\n",
    "from pprint import pprint\n",
    "\n",
    "from focoos import Focoos\n",
    "from focoos.ports import DEV_API_URL\n",
    "\n",
    "focoos = Focoos(api_key=os.getenv(\"FOCOOS_API_KEY\"), host_url=DEV_API_URL)\n",
    "\n",
    "pprint(focoos.list_focoos_models())"
   ]
  },
  {
   "cell_type": "markdown",
   "metadata": {},
   "source": [
    "## Remote Inference\n",
    "This section demonstrates how to perform remote inference using a model from the Focoos platform.\n",
    "We will load a remote model (can be a pre-trained model or a custom user model), and then run inference on a sample image with focoos API.\n"
   ]
  },
  {
   "cell_type": "code",
   "execution_count": null,
   "metadata": {},
   "outputs": [],
   "source": [
    "import os\n",
    "\n",
    "from supervision import plot_image\n",
    "\n",
    "from focoos import Focoos\n",
    "\n",
    "model_ref = \"fai-rtdetr-m-obj365\"\n",
    "image_path = \"./assets/ade_val_034.jpg\"\n",
    "\n",
    "# focoos = Focoos(api_key=os.getenv(\"FOCOOS_API_KEY\"))\n",
    "\n",
    "model = focoos.get_remote_model(model_ref)\n",
    "\n",
    "output, preview = model.infer(image_path, threshold=0.6, annotate=True)\n",
    "plot_image(preview)"
   ]
  },
  {
   "cell_type": "markdown",
   "metadata": {},
   "source": [
    "## Local Inference\n",
    "\n",
    "This section demonstrates how to perform local inference using a model from the Focoos platform. \n",
    "We will load a model, deploy it locally, and then run inference on a sample image.\n"
   ]
  },
  {
   "cell_type": "markdown",
   "metadata": {},
   "source": [
    "### 🔧 Available Runtimes and Execution Providers\n",
    "\n",
    "#### To install the extras modules, use the command: `uv pip install .[{{extra-name}}]`.\n"
   ]
  },
  {
   "cell_type": "markdown",
   "metadata": {},
   "source": [
    "- **TORCHSCRIPT** *`[torch]`*\n",
    "    - **CUDA**\n",
    "        NVIDIA GPU acceleration with FP32 precision, excellent balance between speed and accuracy, suggested for segmentation tasks\n",
    "- **ONNXRUNTIME** providers:\n",
    "    - **CPU** and **CoreML (Apple)**  *`base sdk without any extra`*\n",
    "        Standard CPU execution, compatible with all systems but with limited performance\n",
    "    - **CUDA** *`[cuda]`*\n",
    "\n",
    "        NVIDIA GPU acceleration with FP32 precision, excellent balance between speed and accuracy\n",
    "    - **TensorRT** *`[tensorrt]`*\n",
    "\n",
    "        Maximum optimization for NVIDIA GPUs with reduced FP16 precision, exceptional performance, but slow model warmup due to tensorrt engine compilation\n",
    "\n",
    "\n"
   ]
  },
  {
   "cell_type": "code",
   "execution_count": null,
   "metadata": {},
   "outputs": [],
   "source": [
    "from focoos.ports import RuntimeTypes\n",
    "\n",
    "for runtime_type in RuntimeTypes:\n",
    "    print(runtime_type)"
   ]
  },
  {
   "cell_type": "markdown",
   "metadata": {},
   "source": [
    "### 🖥️  System info\n",
    "\n"
   ]
  },
  {
   "cell_type": "code",
   "execution_count": null,
   "metadata": {},
   "outputs": [],
   "source": [
    "from focoos.utils.system import get_system_info\n",
    "\n",
    "system_info = get_system_info()\n",
    "system_info.pretty_print()"
   ]
  },
  {
   "cell_type": "markdown",
   "metadata": {},
   "source": [
    "### Inference with TorchscriptRuntime (CUDA32)"
   ]
  },
  {
   "cell_type": "code",
   "execution_count": null,
   "metadata": {},
   "outputs": [],
   "source": [
    "import os\n",
    "from pprint import pprint\n",
    "\n",
    "from supervision import plot_image\n",
    "\n",
    "from focoos import Focoos, RuntimeTypes\n",
    "\n",
    "# focoos = Focoos(api_key=os.getenv(\"FOCOOS_API_KEY\"))\n",
    "image_path = \"./assets/ade_val_034.jpg\"\n",
    "model_ref = \"fai-m2f-s-ade\"\n",
    "\n",
    "\n",
    "model = focoos.get_local_model(model_ref, runtime_type=RuntimeTypes.TORCHSCRIPT_32)\n",
    "\n",
    "latency = model.benchmark(iterations=10, size=640)\n",
    "pprint(latency)\n",
    "\n",
    "output, preview = model.infer(image_path, threshold=0.6, annotate=True)\n",
    "pprint(output.detections)\n",
    "pprint(output.latency)\n",
    "\n",
    "plot_image(preview)"
   ]
  },
  {
   "cell_type": "markdown",
   "metadata": {},
   "source": [
    "### Inference with OnnxRuntime (CUDA32)"
   ]
  },
  {
   "cell_type": "code",
   "execution_count": null,
   "metadata": {},
   "outputs": [],
   "source": [
    "import os\n",
    "from pprint import pprint\n",
    "\n",
    "from supervision import plot_image\n",
    "\n",
    "from focoos import DEV_API_URL, Focoos, RuntimeTypes\n",
    "\n",
    "focoos = Focoos(api_key=os.getenv(\"FOCOOS_API_KEY\"), host_url=DEV_API_URL)\n",
    "image_path = \"./assets/ade_val_034.jpg\"\n",
    "model_ref = \"fai-rtdetr-m-obj365\"\n",
    "\n",
    "\n",
    "model = focoos.get_local_model(model_ref, runtime_type=RuntimeTypes.ONNX_CUDA32)\n",
    "\n",
    "latency = model.benchmark(iterations=10, size=640)\n",
    "pprint(latency)\n",
    "# pprint(latency)\n",
    "output, preview = model.infer(image_path, threshold=0.6, annotate=True)\n",
    "pprint(output.detections)\n",
    "pprint(output.latency)\n",
    "\n",
    "plot_image(preview)"
   ]
  },
  {
   "cell_type": "markdown",
   "metadata": {},
   "source": [
    "### Inference with OnnxRuntime (TensorRT) (FP16)"
   ]
  },
  {
   "cell_type": "code",
   "execution_count": null,
   "metadata": {},
   "outputs": [],
   "source": [
    "import os\n",
    "from pprint import pprint\n",
    "\n",
    "from supervision import plot_image\n",
    "\n",
    "from focoos import Focoos\n",
    "from focoos.ports import RuntimeTypes\n",
    "\n",
    "focoos = Focoos(\n",
    "    api_key=os.getenv(\"FOCOOS_API_KEY\"),\n",
    ")\n",
    "image_path = \"./assets/ade_val_034.jpg\"\n",
    "model_ref = \"fai-rtdetr-m-obj365\"\n",
    "\n",
    "\n",
    "model = focoos.get_local_model(model_ref, runtime_type=RuntimeTypes.ONNX_TRT16)\n",
    "\n",
    "latency = model.benchmark(iterations=10, size=640)\n",
    "pprint(latency)\n",
    "# pprint(latency)\n",
    "output, preview = model.infer(image_path, threshold=0.6, annotate=True)\n",
    "pprint(output.detections)\n",
    "pprint(output.latency)\n",
    "\n",
    "plot_image(preview)"
   ]
  },
  {
   "cell_type": "markdown",
   "metadata": {},
   "source": [
    "# User Models"
   ]
  },
  {
   "cell_type": "markdown",
   "metadata": {},
   "source": [
    "### List User Models"
   ]
  },
  {
   "cell_type": "code",
   "execution_count": null,
   "metadata": {},
   "outputs": [],
   "source": [
    "import os\n",
    "from pprint import pprint\n",
    "\n",
    "from dotenv import load_dotenv\n",
    "\n",
    "from focoos import DEV_API_URL, Focoos\n",
    "\n",
    "load_dotenv()\n",
    "\n",
    "focoos = Focoos(api_key=os.getenv(\"FOCOOS_API_KEY\"), host_url=DEV_API_URL)\n",
    "\n",
    "models = focoos.list_models()\n",
    "pprint(models)"
   ]
  },
  {
   "cell_type": "markdown",
   "metadata": {},
   "source": [
    "## Create Model"
   ]
  },
  {
   "cell_type": "code",
   "execution_count": null,
   "metadata": {},
   "outputs": [],
   "source": [
    "import os\n",
    "from pprint import pprint\n",
    "\n",
    "from dotenv import load_dotenv\n",
    "\n",
    "from focoos import DEV_API_URL, Focoos\n",
    "\n",
    "load_dotenv()\n",
    "\n",
    "focoos = Focoos(api_key=os.getenv(\"FOCOOS_API_KEY\"), host_url=DEV_API_URL)\n",
    "\n",
    "model = focoos.new_model(name=\"test-model\", focoos_model=\"fai-rtdetr-m-obj365\", description=\"Test model\")\n",
    "### Get Model Info"
   ]
  },
  {
   "cell_type": "markdown",
   "metadata": {},
   "source": [
    "## Cloud Inference"
   ]
  },
  {
   "cell_type": "code",
   "execution_count": null,
   "metadata": {},
   "outputs": [],
   "source": [
    "import os\n",
    "from pprint import pprint\n",
    "\n",
    "import supervision as sv\n",
    "from dotenv import load_dotenv\n",
    "\n",
    "from focoos import Focoos\n",
    "\n",
    "load_dotenv()\n",
    "\n",
    "focoos = Focoos(api_key=os.getenv(\"FOCOOS_API_KEY\"), host_url=DEV_API_URL)\n",
    "\n",
    "model = focoos.get_remote_model(os.getenv(\"FOCOOS_MODEL_REF\"))\n",
    "model_info = model.get_info()\n",
    "image_path = \"./assets/aquarium.jpg\"\n",
    "\n",
    "output, preview = model.infer(image_path, threshold=0.5, annotate=True)\n",
    "sv.plot_image(preview)"
   ]
  },
  {
   "cell_type": "markdown",
   "metadata": {},
   "source": [
    "## Local Inference\n",
    "\n",
    "\n"
   ]
  },
  {
   "cell_type": "code",
   "execution_count": null,
   "metadata": {},
   "outputs": [],
   "source": [
    "import os\n",
    "from pprint import pprint\n",
    "\n",
    "from supervision import plot_image\n",
    "\n",
    "from focoos import DEV_API_URL, Focoos\n",
    "\n",
    "focoos = Focoos(\n",
    "    api_key=os.getenv(\"FOCOOS_API_KEY\"),\n",
    "    host_url=DEV_API_URL,\n",
    ")\n",
    "image_path = \"./assets/aquarium.jpg\"\n",
    "model_ref = \"focoos_object365\"\n",
    "\n",
    "model_info = focoos.get_model_info(model_ref)\n",
    "\n",
    "model = focoos.get_local_model(model_ref)\n",
    "\n",
    "latency = model.benchmark(iterations=10, size=640)\n",
    "# pprint(latency)\n",
    "output, preview = model.infer(image_path, threshold=0.3, annotate=True)\n",
    "\n",
    "plot_image(preview)"
   ]
  },
  {
   "cell_type": "markdown",
   "metadata": {},
   "source": [
    "## Train a Model"
   ]
  },
  {
   "cell_type": "markdown",
   "metadata": {},
   "source": [
    "### List Public Datasets\n"
   ]
  },
  {
   "cell_type": "code",
   "execution_count": null,
   "metadata": {},
   "outputs": [],
   "source": [
    "import os\n",
    "from pprint import pprint\n",
    "\n",
    "from focoos import DEV_API_URL, Focoos\n",
    "\n",
    "focoos = Focoos(api_key=os.getenv(\"FOCOOS_API_KEY\"), host_url=DEV_API_URL)\n",
    "\n",
    "datasets = focoos.list_shared_datasets()\n",
    "pprint(datasets)\n",
    "dataset_ref = \"f92ac3b33b284a80\""
   ]
  },
  {
   "cell_type": "code",
   "execution_count": null,
   "metadata": {},
   "outputs": [],
   "source": [
    "import os\n",
    "\n",
    "from focoos.ports import Hyperparameters, TrainInstance\n",
    "\n",
    "model = focoos.new_model(name=\"test-model-5\", focoos_model=\"fai-rtdetr-s-coco\", description=\"Test model 4\")\n",
    "model_ref = model.model_ref\n",
    "res = model.train(\n",
    "    dataset_ref=dataset_ref,\n",
    "    instance_type=TrainInstance.ML_G4DN_XLARGE,\n",
    "    volume_size=50,\n",
    "    max_runtime_in_seconds=36000,\n",
    "    hyperparameters=Hyperparameters(\n",
    "        learning_rate=0.0001,\n",
    "        batch_size=8,\n",
    "        max_iters=5000,\n",
    "        eval_period=100,\n",
    "        resolution=640,\n",
    "    ),  # type: ignore\n",
    ")"
   ]
  },
  {
   "cell_type": "markdown",
   "metadata": {},
   "source": [
    "### Monitor Training"
   ]
  },
  {
   "cell_type": "code",
   "execution_count": null,
   "metadata": {},
   "outputs": [],
   "source": [
    "model.notebook_monitor_train(interval=30, plot_metrics=True)"
   ]
  },
  {
   "cell_type": "code",
   "execution_count": null,
   "metadata": {},
   "outputs": [],
   "source": [
    "logs = model.train_logs()\n",
    "pprint(logs)"
   ]
  },
  {
   "cell_type": "markdown",
   "metadata": {},
   "source": [
    "### Model Metrics\n",
    "\n",
    "\n"
   ]
  },
  {
   "cell_type": "code",
   "execution_count": null,
   "metadata": {},
   "outputs": [],
   "source": [
    "import os\n",
    "from pprint import pprint\n",
    "\n",
    "from focoos import DEV_API_URL, Focoos\n",
    "\n",
    "focoos = Focoos(api_key=os.getenv(\"FOCOOS_API_KEY\"), host_url=DEV_API_URL)\n",
    "\n",
    "model = focoos.get_remote_model(\"fai-m2f-s-ade\")\n",
    "metrics = model.metrics()\n",
    "pprint(metrics)"
   ]
  },
  {
   "cell_type": "markdown",
   "metadata": {},
   "source": [
    "### Visualize Metrics\n"
   ]
  },
  {
   "cell_type": "code",
   "execution_count": null,
   "metadata": {},
   "outputs": [],
   "source": [
    "from focoos.utils.metrics import MetricsVisualizer\n",
    "\n",
    "metrics_visualizer = MetricsVisualizer(metrics)\n",
    "metrics_visualizer.log_metrics()\n",
    "metrics_visualizer.notebook_plot_training_metrics()"
   ]
  }
 ],
 "metadata": {
  "kernelspec": {
   "display_name": ".venv",
   "language": "python",
   "name": "python3"
  },
  "language_info": {
   "codemirror_mode": {
    "name": "ipython",
    "version": 3
   },
   "file_extension": ".py",
   "mimetype": "text/x-python",
   "name": "python",
   "nbconvert_exporter": "python",
   "pygments_lexer": "ipython3",
   "version": "3.12.8"
  }
 },
 "nbformat": 4,
 "nbformat_minor": 2
}
