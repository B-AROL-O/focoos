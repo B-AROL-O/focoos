{
 "cells": [
  {
   "cell_type": "markdown",
   "metadata": {},
   "source": [
    "# Setup"
   ]
  },
  {
   "cell_type": "code",
   "execution_count": null,
   "metadata": {},
   "outputs": [],
   "source": [
    "%uv pip install -e ..[dev,gpu]"
   ]
  },
  {
   "cell_type": "markdown",
   "metadata": {},
   "source": [
    "# 🤖 Focoos Foundational Models\n"
   ]
  },
  {
   "cell_type": "code",
   "execution_count": null,
   "metadata": {},
   "outputs": [],
   "source": [
    "import os\n",
    "from pprint import pprint\n",
    "\n",
    "from focoos import DEV_API_URL, Focoos\n",
    "\n",
    "focoos = Focoos(api_key=os.getenv(\"FOCOOS_API_KEY\"), host_url=DEV_API_URL)\n",
    "\n",
    "pprint(focoos.list_focoos_models())"
   ]
  },
  {
   "cell_type": "markdown",
   "metadata": {},
   "source": [
    "## Cloud Inference"
   ]
  },
  {
   "cell_type": "code",
   "execution_count": null,
   "metadata": {},
   "outputs": [],
   "source": [
    "import os\n",
    "from pprint import pprint\n",
    "\n",
    "from supervision import plot_image\n",
    "\n",
    "from focoos import DEV_API_URL, Focoos\n",
    "\n",
    "model_ref = \"focoos_object365\"\n",
    "image_path = \"./assets/ade_val_034.jpg\"\n",
    "\n",
    "focoos = Focoos(api_key=os.getenv(\"FOCOOS_API_KEY\"), host_url=DEV_API_URL)\n",
    "\n",
    "model = focoos.get_remote_model(model_ref)\n",
    "## Only admin can deploy foundational models\n",
    "\n",
    "output, preview = model.infer(image_path, threshold=0.4, annotate=True)\n",
    "plot_image(preview)"
   ]
  },
  {
   "cell_type": "markdown",
   "metadata": {},
   "source": [
    "## Local Inference\n",
    "\n",
    "This section demonstrates how to perform local inference using a model from the Focoos platform. \n",
    "We will load a model, deploy it locally, and then run inference on a sample image.\n"
   ]
  },
  {
   "cell_type": "markdown",
   "metadata": {},
   "source": [
    "### Available Runtime Types"
   ]
  },
  {
   "cell_type": "code",
   "execution_count": null,
   "metadata": {},
   "outputs": [],
   "source": [
    "from focoos.ports import RuntimeTypes\n",
    "\n",
    "for runtime_type in RuntimeTypes:\n",
    "    print(runtime_type)"
   ]
  },
  {
   "cell_type": "markdown",
   "metadata": {},
   "source": [
    "### OnnxRuntime With CUDA (focoos_object365)"
   ]
  },
  {
   "cell_type": "code",
   "execution_count": null,
   "metadata": {},
   "outputs": [],
   "source": [
    "import os\n",
    "from pprint import pprint\n",
    "\n",
    "from supervision import plot_image\n",
    "\n",
    "from focoos import DEV_API_URL, Focoos\n",
    "\n",
    "focoos = Focoos(api_key=os.getenv(\"FOCOOS_API_KEY\"), host_url=DEV_API_URL)\n",
    "image_path = \"./assets/ade_val_034.jpg\"\n",
    "model_ref = \"focoos_object365\"\n",
    "\n",
    "\n",
    "model = focoos.get_local_model(model_ref)\n",
    "\n",
    "latency = model.benchmark(iterations=10, size=640)\n",
    "pprint(latency)\n",
    "# pprint(latency)\n",
    "output, preview = model.infer(image_path, threshold=0.3, annotate=True)\n",
    "pprint(output.detections)\n",
    "pprint(output.latency)\n",
    "\n",
    "plot_image(preview)"
   ]
  },
  {
   "cell_type": "markdown",
   "metadata": {},
   "source": [
    "### OnnxRuntime With TensorRT (FP16) (focoos_object365)"
   ]
  },
  {
   "cell_type": "code",
   "execution_count": null,
   "metadata": {},
   "outputs": [],
   "source": [
    "import os\n",
    "from pprint import pprint\n",
    "\n",
    "from supervision import plot_image\n",
    "\n",
    "from focoos import Focoos\n",
    "from focoos.ports import RuntimeTypes\n",
    "\n",
    "focoos = Focoos(\n",
    "    api_key=os.getenv(\"FOCOOS_API_KEY\"),\n",
    ")\n",
    "image_path = \"./assets/ade_val_034.jpg\"\n",
    "model_ref = \"focoos_object365\"\n",
    "\n",
    "\n",
    "model = focoos.get_local_model(model_ref, runtime_type=RuntimeTypes.ONNX_TRT16)\n",
    "\n",
    "latency = model.benchmark(iterations=10, size=640)\n",
    "pprint(latency)\n",
    "# pprint(latency)\n",
    "output, preview = model.infer(image_path, threshold=0.3, annotate=True)\n",
    "pprint(output.detections)\n",
    "pprint(output.latency)\n",
    "\n",
    "plot_image(preview)"
   ]
  },
  {
   "cell_type": "markdown",
   "metadata": {},
   "source": [
    "# User Models"
   ]
  },
  {
   "cell_type": "markdown",
   "metadata": {},
   "source": [
    "### List User Models"
   ]
  },
  {
   "cell_type": "code",
   "execution_count": null,
   "metadata": {},
   "outputs": [],
   "source": [
    "import os\n",
    "from pprint import pprint\n",
    "\n",
    "from dotenv import load_dotenv\n",
    "\n",
    "from focoos import DEV_API_URL, Focoos\n",
    "\n",
    "load_dotenv()\n",
    "\n",
    "focoos = Focoos(api_key=os.getenv(\"FOCOOS_API_KEY\"), host_url=DEV_API_URL)\n",
    "\n",
    "models = focoos.list_models()\n",
    "pprint(models)"
   ]
  },
  {
   "cell_type": "markdown",
   "metadata": {},
   "source": [
    "## Create Model"
   ]
  },
  {
   "cell_type": "code",
   "execution_count": null,
   "metadata": {},
   "outputs": [],
   "source": [
    "import os\n",
    "from pprint import pprint\n",
    "\n",
    "from dotenv import load_dotenv\n",
    "\n",
    "from focoos import DEV_API_URL, Focoos\n",
    "\n",
    "load_dotenv()\n",
    "\n",
    "focoos = Focoos(api_key=os.getenv(\"FOCOOS_API_KEY\"), host_url=DEV_API_URL)\n",
    "\n",
    "model = focoos.new_model(name=\"test-model\", focoos_model=\"focoos_object365\", description=\"Test model\")\n",
    "### Get Model Info"
   ]
  },
  {
   "cell_type": "markdown",
   "metadata": {},
   "source": [
    "## Deploy user model on shared cloud endpoint"
   ]
  },
  {
   "cell_type": "code",
   "execution_count": null,
   "metadata": {},
   "outputs": [],
   "source": [
    "import os\n",
    "from pprint import pprint\n",
    "\n",
    "from dotenv import load_dotenv\n",
    "\n",
    "from focoos import DEV_API_URL, Focoos\n",
    "\n",
    "load_dotenv()\n",
    "\n",
    "focoos = Focoos(api_key=os.getenv(\"FOCOOS_API_KEY\"), host_url=DEV_API_URL)\n",
    "\n",
    "model = focoos.get_remote_model(os.getenv(\"FOCOOS_MODEL_REF\"))\n",
    "model_info = model.get_info()"
   ]
  },
  {
   "cell_type": "markdown",
   "metadata": {},
   "source": [
    "## Cloud Inference"
   ]
  },
  {
   "cell_type": "code",
   "execution_count": null,
   "metadata": {},
   "outputs": [],
   "source": [
    "import os\n",
    "from pprint import pprint\n",
    "\n",
    "import supervision as sv\n",
    "from dotenv import load_dotenv\n",
    "\n",
    "from focoos import Focoos\n",
    "\n",
    "load_dotenv()\n",
    "\n",
    "focoos = Focoos(api_key=os.getenv(\"FOCOOS_API_KEY\"), host_url=DEV_API_URL)\n",
    "\n",
    "model = focoos.get_remote_model(os.getenv(\"FOCOOS_MODEL_REF\"))\n",
    "model_info = model.get_info()\n",
    "image_path = \"./assets/aquarium.jpg\"\n",
    "\n",
    "output, preview = model.infer(image_path, threshold=0.5, annotate=True)\n",
    "sv.plot_image(preview)"
   ]
  },
  {
   "cell_type": "markdown",
   "metadata": {},
   "source": [
    "## Local Inference\n",
    "\n",
    "\n"
   ]
  },
  {
   "cell_type": "code",
   "execution_count": null,
   "metadata": {},
   "outputs": [],
   "source": [
    "import os\n",
    "from pprint import pprint\n",
    "\n",
    "from supervision import plot_image\n",
    "\n",
    "from focoos import DEV_API_URL, Focoos\n",
    "\n",
    "focoos = Focoos(\n",
    "    api_key=os.getenv(\"FOCOOS_API_KEY\"),\n",
    "    host_url=DEV_API_URL,\n",
    ")\n",
    "image_path = \"./assets/aquarium.jpg\"\n",
    "model_ref = \"focoos_object365\"\n",
    "\n",
    "model_info = focoos.get_model_info(model_ref)\n",
    "\n",
    "model = focoos.get_local_model(model_ref)\n",
    "\n",
    "latency = model.benchmark(iterations=10, size=640)\n",
    "# pprint(latency)\n",
    "output, preview = model.infer(image_path, threshold=0.3, annotate=True)\n",
    "\n",
    "plot_image(preview)"
   ]
  },
  {
   "cell_type": "markdown",
   "metadata": {},
   "source": [
    "## Train a Model"
   ]
  },
  {
   "cell_type": "markdown",
   "metadata": {},
   "source": [
    "### List Public Datasets\n"
   ]
  },
  {
   "cell_type": "code",
   "execution_count": null,
   "metadata": {},
   "outputs": [],
   "source": [
    "import os\n",
    "from pprint import pprint\n",
    "\n",
    "from focoos import DEV_API_URL, Focoos\n",
    "\n",
    "focoos = Focoos(api_key=os.getenv(\"FOCOOS_API_KEY\"), host_url=DEV_API_URL)\n",
    "\n",
    "datasets = focoos.list_shared_datasets()\n",
    "pprint(datasets)\n",
    "dataset_ref = \"f92ac3b33b284a80\""
   ]
  },
  {
   "cell_type": "code",
   "execution_count": null,
   "metadata": {},
   "outputs": [],
   "source": [
    "import os\n",
    "\n",
    "from focoos.ports import Hyperparameters, TrainInstance\n",
    "\n",
    "model = focoos.new_model(name=\"test-model-4\", focoos_model=\"focoos_coco_tiny\", description=\"Test model 4\")\n",
    "model_ref = model.model_ref\n",
    "res = model.train(\n",
    "    dataset_ref=dataset_ref,\n",
    "    instance_type=TrainInstance.ML_G4DN_XLARGE,\n",
    "    volume_size=50,\n",
    "    max_runtime_in_seconds=36000,\n",
    "    hyperparameters=Hyperparameters(\n",
    "        learning_rate=0.0001,\n",
    "        batch_size=32,\n",
    "        max_iters=5000,\n",
    "        eval_period=100,\n",
    "        resolution=640,\n",
    "    ),  # type: ignore\n",
    ")"
   ]
  },
  {
   "cell_type": "markdown",
   "metadata": {},
   "source": [
    "## Monitor Training"
   ]
  },
  {
   "cell_type": "code",
   "execution_count": null,
   "metadata": {},
   "outputs": [],
   "source": [
    "import os\n",
    "\n",
    "from focoos import DEV_API_URL, Focoos\n",
    "\n",
    "focoos = Focoos(api_key=os.getenv(\"FOCOOS_API_KEY\"), host_url=DEV_API_URL)\n",
    "model = focoos.get_remote_model(\"focoos_object365\")\n",
    "model.notebook_monitor_train(interval=30, plot_metrics=True)"
   ]
  },
  {
   "cell_type": "code",
   "execution_count": null,
   "metadata": {},
   "outputs": [],
   "source": [
    "logs = model.train_logs()\n",
    "pprint(logs)"
   ]
  },
  {
   "cell_type": "markdown",
   "metadata": {},
   "source": [
    "## Get User Info"
   ]
  },
  {
   "cell_type": "code",
   "execution_count": null,
   "metadata": {},
   "outputs": [],
   "source": [
    "import os\n",
    "from pprint import pprint\n",
    "\n",
    "from focoos import DEV_API_URL, Focoos\n",
    "\n",
    "focoos = Focoos(api_key=os.getenv(\"FOCOOS_API_KEY\"), host_url=DEV_API_URL)\n",
    "\n",
    "user_info = focoos.get_user_info()\n",
    "pprint(user_info.model_dump())"
   ]
  },
  {
   "cell_type": "markdown",
   "metadata": {},
   "source": [
    "## Get System Info"
   ]
  },
  {
   "cell_type": "code",
   "execution_count": null,
   "metadata": {},
   "outputs": [],
   "source": [
    "from focoos.utils.system import get_system_info\n",
    "\n",
    "system_info = get_system_info()\n",
    "system_info.pretty_print()"
   ]
  },
  {
   "cell_type": "markdown",
   "metadata": {},
   "source": [
    "### Model Metrics\n",
    "\n",
    "\n"
   ]
  },
  {
   "cell_type": "code",
   "execution_count": null,
   "metadata": {},
   "outputs": [],
   "source": [
    "import os\n",
    "from pprint import pprint\n",
    "\n",
    "from focoos import LOCAL_API_URL, Focoos\n",
    "\n",
    "focoos = Focoos(api_key=os.getenv(\"FOCOOS_API_KEY\"), host_url=LOCAL_API_URL)\n",
    "\n",
    "model = focoos.get_remote_model(os.getenv(\"FOCOOS_MODEL_REF\"))\n",
    "metrics = model.metrics()"
   ]
  },
  {
   "cell_type": "markdown",
   "metadata": {},
   "source": [
    "## Visualize Metrics\n"
   ]
  },
  {
   "cell_type": "code",
   "execution_count": null,
   "metadata": {},
   "outputs": [],
   "source": [
    "from focoos.utils.metrics import MetricsVisualizer\n",
    "\n",
    "metrics_visualizer = MetricsVisualizer(metrics)\n",
    "metrics_visualizer.log_metrics()\n",
    "metrics_visualizer.notebook_plot_training_metrics()"
   ]
  },
  {
   "cell_type": "code",
   "execution_count": null,
   "metadata": {},
   "outputs": [],
   "source": []
  }
 ],
 "metadata": {
  "kernelspec": {
   "display_name": "Python 3",
   "language": "python",
   "name": "python3"
  },
  "language_info": {
   "codemirror_mode": {
    "name": "ipython",
    "version": 3
   },
   "file_extension": ".py",
   "mimetype": "text/x-python",
   "name": "python",
   "nbconvert_exporter": "python",
   "pygments_lexer": "ipython3",
   "version": "3.12.0"
  }
 },
 "nbformat": 4,
 "nbformat_minor": 2
}
