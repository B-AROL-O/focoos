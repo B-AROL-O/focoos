{
 "cells": [
  {
   "cell_type": "markdown",
   "metadata": {},
   "source": [
    "# 🐍 Setup Focoos"
   ]
  },
  {
   "cell_type": "code",
   "execution_count": null,
   "metadata": {},
   "outputs": [],
   "source": [
    "%pip install 'focoos @ git+https://github.com/FocoosAI/focoos.git'"
   ]
  },
  {
   "cell_type": "markdown",
   "metadata": {},
   "source": [
    "# Model Management\n",
    "\n",
    "This section covers the steps to monitor the status of models on the FocoosAI platform.\n",
    "\n",
    "For training, see the training examples in `training.ipynb`."
   ]
  },
  {
   "cell_type": "markdown",
   "metadata": {},
   "source": [
    "## Set up the environment"
   ]
  },
  {
   "cell_type": "code",
   "execution_count": null,
   "metadata": {},
   "outputs": [],
   "source": [
    "import os\n",
    "\n",
    "from dotenv import load_dotenv\n",
    "\n",
    "from focoos import DEV_API_URL, Focoos\n",
    "\n",
    "DEV = False\n",
    "\n",
    "# We assume you have the API key in your environment variable (or in the .env file)\n",
    "load_dotenv()\n",
    "\n",
    "focoos = Focoos(api_key=os.getenv(\"FOCOOS_API_KEY\"), host_url=DEV_API_URL if DEV else None)"
   ]
  },
  {
   "cell_type": "markdown",
   "metadata": {},
   "source": [
    "## List Focoos models\n",
    "\n",
    "To list all the models available on the FocoosAI platform, you can use the following code:\n"
   ]
  },
  {
   "cell_type": "code",
   "execution_count": null,
   "metadata": {},
   "outputs": [],
   "source": [
    "focoos_models = focoos.list_focoos_models()\n",
    "for model in focoos_models:\n",
    "    print(f\"Name: {model.name}\")\n",
    "    print(f\"Reference: {model.ref}\")\n",
    "    print(f\"Status: {model.status}\")\n",
    "    print(f\"Task: {model.task}\")\n",
    "    print(f\"Description: {model.description}\")\n",
    "    print(\"-\" * 50)"
   ]
  },
  {
   "cell_type": "markdown",
   "metadata": {},
   "source": [
    "## List all your models\n",
    "\n",
    "To list all your models, the library provides a list_models function. This function will return a list of Model objects."
   ]
  },
  {
   "cell_type": "code",
   "execution_count": null,
   "metadata": {},
   "outputs": [],
   "source": [
    "models = focoos.list_models()\n",
    "for model in models:\n",
    "    print(f\"Name: {model.name}\")\n",
    "    print(f\"Reference: {model.ref}\")\n",
    "    print(f\"Status: {model.status}\")\n",
    "    print(f\"Task: {model.task}\")\n",
    "    print(f\"Description: {model.description}\")\n",
    "    print(f\"Focoos Model: {model.focoos_model}\")\n",
    "    print(\"-\" * 50)"
   ]
  },
  {
   "cell_type": "code",
   "execution_count": null,
   "metadata": {},
   "outputs": [],
   "source": [
    "# Filter the models by status\n",
    "STATUS = \"TRAINING_COMPLETED\"  # choose of of the following: CREATED, TRAINING_RUNNING, TRAINING_COMPLETED, TRAINING_ERROR, TRAINING_STOPPED\n",
    "filtered_models = [model for model in models if model.status == STATUS]\n",
    "\n",
    "for model in filtered_models:\n",
    "    print(f\"Name: {model.name}\")\n",
    "    print(f\"Reference: {model.ref}\")\n",
    "    print(f\"Status: {model.status}\")\n",
    "    print(f\"Task: {model.task}\")\n",
    "    print(f\"Description: {model.description}\")\n",
    "    print(\"-\" * 50)"
   ]
  },
  {
   "cell_type": "markdown",
   "metadata": {},
   "source": [
    "# See the metrics for a model\n",
    "To see the validation metrics of a model, you can use the metrics method on the model object."
   ]
  },
  {
   "cell_type": "code",
   "execution_count": null,
   "metadata": {},
   "outputs": [],
   "source": [
    "# Ensure there is at least one model to get the reference of\n",
    "if len(models) > 0:\n",
    "    model = focoos.get_remote_model(models[0].ref)\n",
    "else:\n",
    "    model = focoos.get_remote_model(focoos_models[0].ref)\n",
    "\n",
    "metrics = model.metrics()\n",
    "\n",
    "if metrics.best_valid_metric:\n",
    "    print(\"Best validation metrics:\")\n",
    "    for k, v in metrics.best_valid_metric.items():\n",
    "        print(f\"  {k}: {v}\")\n",
    "\n",
    "if metrics.valid_metrics:\n",
    "    print(\"Last iteration validation metrics:\")\n",
    "    for k, v in metrics.valid_metrics[-1].items():\n",
    "        print(f\"  {k}: {v}\")\n",
    "\n",
    "if metrics.train_metrics:\n",
    "    print(\"Last iteration training metrics:\")\n",
    "    for k, v in metrics.train_metrics[-1].items():\n",
    "        print(f\"  {k}: {v}\")"
   ]
  },
  {
   "cell_type": "markdown",
   "metadata": {},
   "source": [
    "## Delete a model\n",
    "To delete a model, you can use the [`delete_model` method](../../api/remote_model/#focoos.remote_model.RemoteModel.delete_model) on the model object.\n",
    "\n",
    "**WARNING**: This action is irreversible and the model will be deleted forever from the platform.\n"
   ]
  },
  {
   "cell_type": "code",
   "execution_count": null,
   "metadata": {},
   "outputs": [],
   "source": [
    "model = focoos.get_remote_model(\"efa857f071074118\")\n",
    "model.delete_model()"
   ]
  }
 ],
 "metadata": {
  "kernelspec": {
   "display_name": ".venv",
   "language": "python",
   "name": "python3"
  },
  "language_info": {
   "codemirror_mode": {
    "name": "ipython",
    "version": 3
   },
   "file_extension": ".py",
   "mimetype": "text/x-python",
   "name": "python",
   "nbconvert_exporter": "python",
   "pygments_lexer": "ipython3",
   "version": "3.12.8"
  }
 },
 "nbformat": 4,
 "nbformat_minor": 2
}
